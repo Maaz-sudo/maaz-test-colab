{
  "nbformat": 4,
  "nbformat_minor": 0,
  "metadata": {
    "colab": {
      "provenance": [],
      "collapsed_sections": [],
      "include_colab_link": true
    },
    "kernelspec": {
      "name": "python3",
      "display_name": "Python 3"
    },
    "language_info": {
      "name": "python"
    }
  },
  "cells": [
    {
      "cell_type": "markdown",
      "metadata": {
        "id": "view-in-github",
        "colab_type": "text"
      },
      "source": [
        "<a href=\"https://colab.research.google.com/github/Maaz-sudo/maaz-test-colab/blob/main/Maaz_Learning.ipynb\" target=\"_parent\"><img src=\"https://colab.research.google.com/assets/colab-badge.svg\" alt=\"Open In Colab\"/></a>"
      ]
    },
    {
      "cell_type": "code",
      "execution_count": 4,
      "metadata": {
        "id": "guk5VlwPxkUe"
      },
      "outputs": [],
      "source": []
    },
    {
      "cell_type": "markdown",
      "source": [
        "## SECTION 1"
      ],
      "metadata": {
        "id": "uCtjCs0NhdzC"
      }
    },
    {
      "cell_type": "markdown",
      "source": [],
      "metadata": {
        "id": "VzUCYZNThxcM"
      }
    },
    {
      "cell_type": "markdown",
      "source": [
        "## SOlve the quadratic equation\n",
        "$3x^2 - 4x + 1 = 0$"
      ],
      "metadata": {
        "id": "PEH0MsZRwP42"
      }
    },
    {
      "cell_type": "code",
      "source": [
        "a = 3 \n",
        "b = -4\n",
        "c = 1\n",
        "result = b**2 - 4*a*c\n",
        "print(f'result is :{result}')"
      ],
      "metadata": {
        "id": "KyQDO2LuwPZ8",
        "outputId": "f9c41daf-fe6c-464d-d953-f14cfd0adfc8",
        "colab": {
          "base_uri": "https://localhost:8080/"
        }
      },
      "execution_count": 7,
      "outputs": [
        {
          "output_type": "stream",
          "name": "stdout",
          "text": [
            "result is :4\n"
          ]
        }
      ]
    },
    {
      "cell_type": "code",
      "source": [],
      "metadata": {
        "id": "LFmrYvu3xA5f"
      },
      "execution_count": null,
      "outputs": []
    }
  ]
}