{
  "nbformat": 4,
  "nbformat_minor": 0,
  "metadata": {
    "colab": {
      "provenance": [],
      "collapsed_sections": [],
      "authorship_tag": "ABX9TyP0r2ur6wnIw6/ma36sxoGb",
      "include_colab_link": true
    },
    "kernelspec": {
      "name": "python3",
      "display_name": "Python 3"
    },
    "language_info": {
      "name": "python"
    }
  },
  "cells": [
    {
      "cell_type": "markdown",
      "metadata": {
        "id": "view-in-github",
        "colab_type": "text"
      },
      "source": [
        "<a href=\"https://colab.research.google.com/github/Maaz-sudo/maaz-test-colab/blob/main/Maaz_Learning.ipynb\" target=\"_parent\"><img src=\"https://colab.research.google.com/assets/colab-badge.svg\" alt=\"Open In Colab\"/></a>"
      ]
    },
    {
      "cell_type": "code",
      "execution_count": 1,
      "metadata": {
        "colab": {
          "base_uri": "https://localhost:8080/"
        },
        "id": "guk5VlwPxkUe",
        "outputId": "344f66f0-49aa-4eaf-e381-6968f9389f16"
      },
      "outputs": [
        {
          "output_type": "stream",
          "name": "stdout",
          "text": [
            "enter your name: maaz\n",
            "enter your age: 23\n",
            "your name is maaz and your age is 23\n",
            "feeling normal\n"
          ]
        }
      ],
      "source": [
        "name = input('enter your name: ')\n",
        "age = int(input('enter your age: '))\n",
        "print(f'your name is {name} and your age is {age}')\n",
        "\n",
        "print('feeling normal')"
      ]
    }
  ]
}