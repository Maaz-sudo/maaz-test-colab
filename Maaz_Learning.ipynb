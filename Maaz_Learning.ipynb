{
  "nbformat": 4,
  "nbformat_minor": 0,
  "metadata": {
    "colab": {
      "provenance": [],
      "collapsed_sections": [],
      "authorship_tag": "ABX9TyOxTDbGJF13TGuxC2n/oUe6",
      "include_colab_link": true
    },
    "kernelspec": {
      "name": "python3",
      "display_name": "Python 3"
    },
    "language_info": {
      "name": "python"
    }
  },
  "cells": [
    {
      "cell_type": "markdown",
      "metadata": {
        "id": "view-in-github",
        "colab_type": "text"
      },
      "source": [
        "<a href=\"https://colab.research.google.com/github/Maaz-sudo/maaz-test-colab/blob/main/Maaz_Learning.ipynb\" target=\"_parent\"><img src=\"https://colab.research.google.com/assets/colab-badge.svg\" alt=\"Open In Colab\"/></a>"
      ]
    },
    {
      "cell_type": "code",
      "execution_count": 5,
      "metadata": {
        "colab": {
          "base_uri": "https://localhost:8080/"
        },
        "id": "guk5VlwPxkUe",
        "outputId": "cbead708-d974-4ace-aeb8-85b558b6bf97"
      },
      "outputs": [
        {
          "output_type": "stream",
          "name": "stdout",
          "text": [
            "enter your name: maaz\n",
            "enter your age: 21\n",
            "your name is maaz and your age is 21\n"
          ]
        }
      ],
      "source": [
        "name = input('enter your name: ')\n",
        "age = int(input('enter your age: '))\n",
        "print(f'your name is {name} and your age is {age}')"
      ]
    }
  ]
}